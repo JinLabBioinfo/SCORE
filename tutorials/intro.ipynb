{
 "cells": [
  {
   "cell_type": "markdown",
   "metadata": {},
   "source": [
    "# SCORE Introduction\n",
    "\n",
    "This tutorial outlines the basic functionality of the `SCORE` package. We start from the raw binned interaction files included in the `examples/data` directory of the repository and walk through the full analysis pipeline using `SCORE`."
   ]
  },
  {
   "cell_type": "markdown",
   "metadata": {},
   "source": [
    "## Creating a .scool file (`score cooler`)\n",
    "\n",
    "`SCORE` works best when the input data is in [.scool](https://academic.oup.com/bioinformatics/article/37/14/2053/5948994) format. You can use the `score cooler` command to create a .scool file given the following inputs:\n",
    "\n",
    "#### 1. Cell reference file\n",
    "\n",
    "This is a tab-delimited file which must at least contain a `cell` column with the cell name/IDs. All other columns are optional and used for filtering, plotting, etc."
   ]
  },
  {
   "cell_type": "code",
   "execution_count": 1,
   "metadata": {},
   "outputs": [
    {
     "name": "stdout",
     "output_type": "stream",
     "text": [
      "cell\tdepth\tbatch\tcluster\n",
      "anchor_loop.55_oocyte_NSN\t130771\t1\toocyte\n",
      "anchor_loop.65_pronucleus-w-o_nucl_extr-female\t155306\t1\tZygM\n",
      "anchor_loop.71_pronucleus-w-o_nucl_extr-female\t134485\t1\tZygM\n",
      "anchor_loop.230_pronucleus-male\t151376\t1\tZygP\n",
      "anchor_loop.58_pronucleus-female\t169110\t1\tZygM\n",
      "anchor_loop.168_pronucleus-w-o-inh-male\t3647\t1\tZygP\n",
      "anchor_loop.93_pronucleus-male\t72157\t1\tZygP\n",
      "anchor_loop.34_oocyte_SN\t233878\t1\toocyte\n",
      "anchor_loop.118_oocyte_SN\t35386\t1\toocyte\n"
     ]
    }
   ],
   "source": [
    "! head data/oocyte_zygote_ref"
   ]
  },
  {
   "cell_type": "markdown",
   "metadata": {},
   "source": [
    "#### 2. Cell interaction files\n",
    "\n",
    "These are tab-delimited files containing rows of `bin1`, `bin2`, `count` values indicating interactions in each cell."
   ]
  },
  {
   "cell_type": "code",
   "execution_count": 2,
   "metadata": {},
   "outputs": [
    {
     "name": "stdout",
     "output_type": "stream",
     "text": [
      "3\t5\t3\n",
      "3\t90\t2\n",
      "3\t4\t7\n",
      "3\t6\t1\n",
      "3\t3\t44\n",
      "4\t5\t10\n",
      "4\t90\t2\n",
      "4\t4\t28\n",
      "4\t6\t1\n",
      "5\t5\t28\n"
     ]
    }
   ],
   "source": [
    "! head data/oocyte_zygote_mm10/1M/anchor_loop.55_oocyte_NSN.1M"
   ]
  },
  {
   "cell_type": "markdown",
   "metadata": {},
   "source": [
    "#### 3 Bin/Anchor reference file\n",
    "\n",
    "This is a tab-delimited file containing the indices and sizes of the bins/anchors participating in each interaction. It should have columns `chrom`, `start`, `end`, `ID`."
   ]
  },
  {
   "cell_type": "code",
   "execution_count": 3,
   "metadata": {},
   "outputs": [
    {
     "name": "stdout",
     "output_type": "stream",
     "text": [
      "chr1\t1\t1000001\t0\n",
      "chr1\t1000001\t2000001\t1\n",
      "chr1\t2000001\t3000001\t2\n",
      "chr1\t3000001\t4000001\t3\n",
      "chr1\t4000001\t5000001\t4\n",
      "chr1\t5000001\t6000001\t5\n",
      "chr1\t6000001\t7000001\t6\n",
      "chr1\t7000001\t8000001\t7\n",
      "chr1\t8000001\t9000001\t8\n",
      "chr1\t9000001\t10000001\t9\n"
     ]
    }
   ],
   "source": [
    "! head data//mm10.genome_split_1M"
   ]
  },
  {
   "cell_type": "markdown",
   "metadata": {},
   "source": [
    "Using these files as input to the `score cooler` command will produce a more efficient compressed representation of the dataset. By default the file will be saved at `data/scools/<dataset_name>_<resolution>.scool` but you can also provide the `--out` argument to save it somewhere else."
   ]
  },
  {
   "cell_type": "code",
   "execution_count": 4,
   "metadata": {},
   "outputs": [
    {
     "name": "stdout",
     "output_type": "stream",
     "text": [
      "\u001b[32mDataset:\u001b[0m oocyte_zygote\n",
      "\u001b[35mTotal Cells: \u001b[0m\u001b[1;35m169\u001b[0m\n",
      "\u001b[32mZygP\u001b[0m: \u001b[1;36m35\u001b[0m\n",
      "\u001b[32moocyte\u001b[0m: \u001b[1;36m98\u001b[0m\n",
      "\u001b[32mZygM\u001b[0m: \u001b[1;36m36\u001b[0m\n",
      "100%|█████████████████████████████████████████| 169/169 [00:47<00:00,  3.54it/s]\n",
      "0\n",
      "\u001b[0m"
     ]
    }
   ],
   "source": [
    "! score cooler --dset oocyte_zygote \\\n",
    "               --data_dir data/oocyte_zygote_mm10/1M \\\n",
    "               --anchor_file data/mm10.genome_split_1M \\\n",
    "               --reference data/oocyte_zygote_ref \\\n",
    "               --resolution 1M \\\n",
    "               --out oocyte_zygote_1M.scool"
   ]
  },
  {
   "cell_type": "markdown",
   "metadata": {},
   "source": [
    "## Embedding the data\n",
    "\n",
    "Now you can use the `--scool` argument to provide the dataset to the `score embed` command. Note that you can run most (not all) embedding functionality using the `--data_dir` and `--anchor_file` arguments with raw data but it will not be as efficient in loading each cell."
   ]
  },
  {
   "cell_type": "code",
   "execution_count": 5,
   "metadata": {},
   "outputs": [
    {
     "name": "stdout",
     "output_type": "stream",
     "text": [
      "\u001b[32mDataset:\u001b[0m oocyte_zygote\n",
      "\u001b[33mResolution not provided, inferring from bins, make sure this is right\u001b[0m\u001b[33m...\u001b[0m\n",
      "\u001b[35mInferred 1M resolution\u001b[0m\u001b[35m...\u001b[0m\n",
      "\u001b[35mTotal Cells: \u001b[0m\u001b[1;35m169\u001b[0m\n",
      "Cells before filtering: 169\n",
      "Cells before filtering by chr: 152\n",
      "not filtered : 150\n",
      "reference depth < min_depth : 17\n",
      "chr_reads < chr_length : 2\n",
      "Reference file with filtering criteria saved to data/oocyte_zygote_filtered_ref\n",
      "\u001b[32mZygP\u001b[0m: \u001b[1;36m28\u001b[0m\n",
      "\u001b[32moocyte\u001b[0m: \u001b[1;36m95\u001b[0m\n",
      "\u001b[32mZygM\u001b[0m: \u001b[1;36m27\u001b[0m\n",
      "\u001b[1;32mEmbedding data using:\u001b[0m\n",
      "\u001b[1;35m[\u001b[0m\u001b[35m'scHiCluster'\u001b[0m\u001b[35m, \u001b[0m\u001b[35m'InnerProduct'\u001b[0m\u001b[35m, \u001b[0m\u001b[35m'cisTopic'\u001b[0m\u001b[1;35m]\u001b[0m\n",
      "\n",
      "\u001b[1;33moocyte_zygote\u001b[0m - \u001b[1;32mschicluster:vc_sqrt_norm,convolution,random_walk\u001b[0m\n",
      "Writing scHiCTools data (this only needs to be done once for each resolution or simulated replicate)...\n",
      " 89%|████████████████████████████████████▋    | 134/150 [00:40<00:06,  2.60it/s]"
     ]
    }
   ],
   "source": [
    "! score embed --dset oocyte_zygote \\\n",
    "              --scool oocyte_zygote_1M.scool \\\n",
    "              --reference data/oocyte_zygote_ref \\\n",
    "              --embedding_algs scHiCluster InnerProduct cisTopic"
   ]
  }
 ],
 "metadata": {
  "kernelspec": {
   "display_name": "hiscore",
   "language": "python",
   "name": "python3"
  },
  "language_info": {
   "codemirror_mode": {
    "name": "ipython",
    "version": 3
   },
   "file_extension": ".py",
   "mimetype": "text/x-python",
   "name": "python",
   "nbconvert_exporter": "python",
   "pygments_lexer": "ipython3",
   "version": "3.9.13"
  }
 },
 "nbformat": 4,
 "nbformat_minor": 2
}
